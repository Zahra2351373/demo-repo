{
  "cells": [
    {
      "cell_type": "markdown",
      "metadata": {
        "id": "view-in-github",
        "colab_type": "text"
      },
      "source": [
        "<a href=\"https://colab.research.google.com/github/Zahra2351373/demo-repo/blob/Master/TrainTridentMain.ipynb\" target=\"_parent\"><img src=\"https://colab.research.google.com/assets/colab-badge.svg\" alt=\"Open In Colab\"/></a>"
      ]
    },
    {
      "cell_type": "code",
      "execution_count": 1,
      "metadata": {
        "id": "ag2kCPtZFBAH"
      },
      "outputs": [],
      "source": [
        "import pandas as pd\n",
        "from sklearn.model_selection import train_test_split\n",
        "from tqdm import tqdm\n",
        "import numpy as np\n",
        "# torch imports\n",
        "import torch\n",
        "from torch import nn\n",
        "from torch.utils.data import DataLoader\n",
        "from torchvision import transforms\n",
        "from torch.utils.data import Dataset\n",
        "import torch.nn.functional as F"
      ]
    },
    {
      "cell_type": "code",
      "execution_count": 2,
      "metadata": {
        "colab": {
          "base_uri": "https://localhost:8080/"
        },
        "id": "VVbjazrSFgB2",
        "outputId": "d4248005-f433-4385-fa56-1e3af3fedd5d"
      },
      "outputs": [
        {
          "output_type": "stream",
          "name": "stdout",
          "text": [
            "Mounted at /content/gdrive\n",
            "[Errno 2] No such file or directory: '/content/gdrive/MyDrive/Colab Notebooks/RideStream/'\n",
            "/content\n",
            "/content\n"
          ]
        }
      ],
      "source": [
        "# Run this once\n",
        "from google.colab import drive\n",
        "drive.mount('/content/gdrive')\n",
        "# You will have to modify this based on your Google Drive directory structure\n",
        "%cd /content/gdrive/MyDrive/Colab Notebooks/RideStream/\n",
        "!pwd"
      ]
    },
    {
      "cell_type": "code",
      "execution_count": 3,
      "metadata": {
        "id": "UVr-wVukIkfA"
      },
      "outputs": [],
      "source": [
        "class UTKDataset(Dataset):\n",
        "    '''\n",
        "        Inputs:\n",
        "            dataFrame : Pandas dataFrame\n",
        "            transform : The transform to apply to the dataset\n",
        "    '''\n",
        "    def __init__(self, dataFrame, transform=None):\n",
        "        # read in the transforms\n",
        "        self.transform = transform\n",
        "        \n",
        "        # Use the dataFrame to get the pixel values\n",
        "        data_holder = dataFrame.pixels.apply(lambda x: np.array(x.split(\" \"),dtype=float))\n",
        "        arr = np.stack(data_holder)\n",
        "        arr = arr / 255.0\n",
        "        arr = arr.astype('float32')\n",
        "        arr = arr.reshape(arr.shape[0], 48, 48, 1)\n",
        "        # reshape into 48x48x1\n",
        "        self.data = arr\n",
        "        \n",
        "        # get the age, gender, and ethnicity label arrays\n",
        "        self.age_label = np.array(dataFrame.bins[:])        # Note : Changed dataFrame.age to dataFrame.bins with most recent change\n",
        "        self.gender_label = np.array(dataFrame.gender[:])\n",
        "        self.eth_label = np.array(dataFrame.ethnicity[:])\n",
        "    \n",
        "    # override the length function\n",
        "    def __len__(self):\n",
        "        return len(self.data)\n",
        "    \n",
        "    # override the getitem function\n",
        "    def __getitem__(self, index):\n",
        "        # load the data at index and apply transform\n",
        "        data = self.data[index]\n",
        "        data = self.transform(data)\n",
        "        \n",
        "        # load the labels into a list and convert to tensors\n",
        "        labels = torch.tensor((self.age_label[index], self.gender_label[index], self.eth_label[index]))\n",
        "        \n",
        "        # return data labels\n",
        "        return data, labels"
      ]
    },
    {
      "cell_type": "code",
      "execution_count": 4,
      "metadata": {
        "id": "cxkn0VdIIlQO"
      },
      "outputs": [],
      "source": [
        "# High level feature extractor network (Adopted VGG type structure)\n",
        "class highLevelNN(nn.Module):\n",
        "    def __init__(self):\n",
        "        super(highLevelNN, self).__init__()\n",
        "        self.CNN = nn.Sequential(\n",
        "            # first batch (32)\n",
        "            nn.Conv2d(in_channels=1, out_channels=32, kernel_size=3, stride=1, padding=1),\n",
        "            nn.ReLU(),\n",
        "            nn.Conv2d(in_channels=32, out_channels=32, kernel_size=3, padding=1),\n",
        "            nn.MaxPool2d(kernel_size=3, stride=2, padding=1),\n",
        "            nn.ReLU(),\n",
        "\n",
        "            # second batch (64)\n",
        "            nn.Conv2d(in_channels=32, out_channels=64, kernel_size=3, padding=1),\n",
        "            nn.ReLU(),\n",
        "            nn.Conv2d(in_channels=64, out_channels=64, kernel_size=3, padding=1),\n",
        "            nn.MaxPool2d(kernel_size=3, stride=2, padding=1),\n",
        "            nn.ReLU(),\n",
        "\n",
        "            # Third Batch (128)\n",
        "            nn.Conv2d(in_channels=64, out_channels=128, kernel_size=3, padding=1),\n",
        "            nn.ReLU(),\n",
        "            nn.Conv2d(in_channels=128, out_channels=128, kernel_size=3, padding=1),\n",
        "            nn.MaxPool2d(kernel_size=3, stride=2, padding=1),\n",
        "            nn.ReLU(),\n",
        "        )\n",
        "\n",
        "    def forward(self, x):\n",
        "        out = self.CNN(x)\n",
        "\n",
        "        return out\n",
        "\n",
        "# Low level feature extraction module\n",
        "class lowLevelNN(nn.Module):\n",
        "    def __init__(self, num_out):\n",
        "        super(lowLevelNN, self).__init__()\n",
        "        self.conv1 = nn.Conv2d(in_channels=128, out_channels=256, kernel_size=3, padding=1)\n",
        "        self.conv2 = nn.Conv2d(in_channels=256, out_channels=512, kernel_size=3, padding=1)\n",
        "        self.fc1 = nn.Linear(in_features=2048, out_features=256)\n",
        "        self.fc2 = nn.Linear(in_features=256, out_features=128)\n",
        "        self.fc3 = nn.Linear(in_features=128, out_features=64)\n",
        "        self.fc4 = nn.Linear(in_features=64, out_features=num_out)\n",
        "\n",
        "    def forward(self, x):\n",
        "        x = F.relu(F.max_pool2d(self.conv1(x), kernel_size=3, stride=2, padding=1))\n",
        "        x = F.relu(F.max_pool2d(self.conv2(x), kernel_size=3, stride=2, padding=1))\n",
        "        x = torch.flatten(x, start_dim=1)\n",
        "        x = F.relu(self.fc1(x))\n",
        "        x = F.relu(self.fc2(x))\n",
        "        x = F.relu(self.fc3(x))\n",
        "        x = self.fc4(x)\n",
        "\n",
        "        return x\n",
        "\n",
        "\n",
        "class TridentNN(nn.Module):\n",
        "    def __init__(self, num_age, num_gen, num_eth):\n",
        "        super(TridentNN, self).__init__()\n",
        "        # Construct the high level neural network\n",
        "        self.CNN = highLevelNN()\n",
        "        # Construct the low level neural networks\n",
        "        self.ageNN = lowLevelNN(num_out=num_age)\n",
        "        self.genNN = lowLevelNN(num_out=num_gen)\n",
        "        self.ethNN = lowLevelNN(num_out=num_eth)\n",
        "\n",
        "    def forward(self, x):\n",
        "        x = self.CNN(x)\n",
        "        age = self.ageNN(x)\n",
        "        gen = self.genNN(x)\n",
        "        eth = self.ethNN(x)\n",
        "\n",
        "        return age, gen, eth"
      ]
    },
    {
      "cell_type": "code",
      "execution_count": 5,
      "metadata": {
        "id": "S78Li3j0JeB8"
      },
      "outputs": [],
      "source": [
        "'''\n",
        "    Function to test the trained model\n",
        "\n",
        "    Inputs:\n",
        "      - testloader : PyTorch DataLoader containing the test dataset\n",
        "      - modle : Trained NeuralNetwork\n",
        "    \n",
        "    Outputs:\n",
        "      - Prints out test accuracy for gender and ethnicity and loss for age\n",
        "'''\n",
        "def test(testloader, model):\n",
        "  device = 'cuda' if torch.cuda.is_available() else 'cpu' \n",
        "  size = len(testloader.dataset)\n",
        "  # put the moel in evaluation mode so we aren't storing anything in the graph\n",
        "  model.eval()\n",
        "\n",
        "  age_acc, gen_acc, eth_acc = 0, 0, 0\n",
        "\n",
        "  with torch.no_grad():\n",
        "      for X, y in testloader:\n",
        "          X = X.to(device)\n",
        "          age, gen, eth = y[:,0].to(device), y[:,1].to(device), y[:,2].to(device)\n",
        "          pred = model(X)\n",
        "\n",
        "          age_acc += (pred[0].argmax(1) == age).type(torch.float).sum().item()\n",
        "          gen_acc += (pred[1].argmax(1) == gen).type(torch.float).sum().item()\n",
        "          eth_acc += (pred[2].argmax(1) == eth).type(torch.float).sum().item()\n",
        "\n",
        "  age_acc /= size\n",
        "  gen_acc /= size\n",
        "  eth_acc /= size\n",
        "\n",
        "  print(f\"Age Accuracy : {age_acc*100}%,     Gender Accuracy : {gen_acc*100},    Ethnicity Accuracy : {eth_acc*100}\\n\")"
      ]
    },
    {
      "cell_type": "code",
      "source": [
        "from google.colab import drive\n",
        "drive.mount('/content/drive')"
      ],
      "metadata": {
        "colab": {
          "base_uri": "https://localhost:8080/"
        },
        "id": "-BAEdBvMDl4M",
        "outputId": "e8743d3c-0691-4ed0-daf1-dd6703caacb1"
      },
      "execution_count": 8,
      "outputs": [
        {
          "output_type": "stream",
          "name": "stdout",
          "text": [
            "Mounted at /content/drive\n"
          ]
        }
      ]
    },
    {
      "cell_type": "code",
      "execution_count": 9,
      "metadata": {
        "colab": {
          "base_uri": "https://localhost:8080/"
        },
        "id": "r9QWQfreI_qW",
        "outputId": "e3a1ebef-909a-492c-c361-23dda8b0069e"
      },
      "outputs": [
        {
          "output_type": "stream",
          "name": "stdout",
          "text": [
            "Shape of training X: torch.Size([64, 1, 48, 48])\n",
            "Shape of y: torch.Size([64, 3])\n"
          ]
        }
      ],
      "source": [
        "# Read in the dataframe\n",
        "dataFrame = pd.read_csv(\"/content/drive/MyDrive/age_gender.gz\", compression='gzip')\n",
        "\n",
        "# Construct age bins\n",
        "age_bins = [0,10,15,20,25,30,40,50,60,120]\n",
        "age_labels = [0, 1, 2, 3, 4, 5, 6, 7, 8]\n",
        "dataFrame['bins'] = pd.cut(dataFrame.age, bins=age_bins, labels=age_labels)\n",
        "\n",
        "# Split into training and testing\n",
        "train_dataFrame, test_dataFrame = train_test_split(dataFrame, test_size=0.2)\n",
        "\n",
        "# get the number of unique classes for each group\n",
        "class_nums = {'age_num':len(dataFrame['bins'].unique()), 'eth_num':len(dataFrame['ethnicity'].unique()),\n",
        "              'gen_num':len(dataFrame['gender'].unique())}\n",
        "\n",
        "# Define train and test transforms\n",
        "train_transform = transforms.Compose([\n",
        "    transforms.ToTensor(),\n",
        "    transforms.Normalize((0.49,), (0.23,))\n",
        "])\n",
        "\n",
        "test_transform = transforms.Compose([\n",
        "    transforms.ToTensor(),\n",
        "    transforms.Normalize((0.49,), (0.23,))\n",
        "])\n",
        "\n",
        "# Construct the custom pytorch datasets\n",
        "train_set = UTKDataset(train_dataFrame, transform=train_transform)\n",
        "test_set = UTKDataset(test_dataFrame, transform=test_transform)\n",
        "\n",
        "# Load the datasets into dataloaders\n",
        "trainloader = DataLoader(train_set, batch_size=64, shuffle=True)\n",
        "testloader = DataLoader(test_set, batch_size=128, shuffle=False)\n",
        "\n",
        "# Sanity Check\n",
        "for X, y in trainloader:\n",
        "    print(f'Shape of training X: {X.shape}')\n",
        "    print(f'Shape of y: {y.shape}')\n",
        "    break"
      ]
    },
    {
      "cell_type": "code",
      "execution_count": 10,
      "metadata": {
        "colab": {
          "base_uri": "https://localhost:8080/"
        },
        "id": "KHME6XaiB4RA",
        "outputId": "9329cf60-4830-4183-becf-f07bf19ec3a9"
      },
      "outputs": [
        {
          "output_type": "stream",
          "name": "stdout",
          "text": [
            "cuda\n"
          ]
        },
        {
          "output_type": "execute_result",
          "data": {
            "text/plain": [
              "TridentNN(\n",
              "  (CNN): highLevelNN(\n",
              "    (CNN): Sequential(\n",
              "      (0): Conv2d(1, 32, kernel_size=(3, 3), stride=(1, 1), padding=(1, 1))\n",
              "      (1): ReLU()\n",
              "      (2): Conv2d(32, 32, kernel_size=(3, 3), stride=(1, 1), padding=(1, 1))\n",
              "      (3): MaxPool2d(kernel_size=3, stride=2, padding=1, dilation=1, ceil_mode=False)\n",
              "      (4): ReLU()\n",
              "      (5): Conv2d(32, 64, kernel_size=(3, 3), stride=(1, 1), padding=(1, 1))\n",
              "      (6): ReLU()\n",
              "      (7): Conv2d(64, 64, kernel_size=(3, 3), stride=(1, 1), padding=(1, 1))\n",
              "      (8): MaxPool2d(kernel_size=3, stride=2, padding=1, dilation=1, ceil_mode=False)\n",
              "      (9): ReLU()\n",
              "      (10): Conv2d(64, 128, kernel_size=(3, 3), stride=(1, 1), padding=(1, 1))\n",
              "      (11): ReLU()\n",
              "      (12): Conv2d(128, 128, kernel_size=(3, 3), stride=(1, 1), padding=(1, 1))\n",
              "      (13): MaxPool2d(kernel_size=3, stride=2, padding=1, dilation=1, ceil_mode=False)\n",
              "      (14): ReLU()\n",
              "    )\n",
              "  )\n",
              "  (ageNN): lowLevelNN(\n",
              "    (conv1): Conv2d(128, 256, kernel_size=(3, 3), stride=(1, 1), padding=(1, 1))\n",
              "    (conv2): Conv2d(256, 512, kernel_size=(3, 3), stride=(1, 1), padding=(1, 1))\n",
              "    (fc1): Linear(in_features=2048, out_features=256, bias=True)\n",
              "    (fc2): Linear(in_features=256, out_features=128, bias=True)\n",
              "    (fc3): Linear(in_features=128, out_features=64, bias=True)\n",
              "    (fc4): Linear(in_features=64, out_features=9, bias=True)\n",
              "  )\n",
              "  (genNN): lowLevelNN(\n",
              "    (conv1): Conv2d(128, 256, kernel_size=(3, 3), stride=(1, 1), padding=(1, 1))\n",
              "    (conv2): Conv2d(256, 512, kernel_size=(3, 3), stride=(1, 1), padding=(1, 1))\n",
              "    (fc1): Linear(in_features=2048, out_features=256, bias=True)\n",
              "    (fc2): Linear(in_features=256, out_features=128, bias=True)\n",
              "    (fc3): Linear(in_features=128, out_features=64, bias=True)\n",
              "    (fc4): Linear(in_features=64, out_features=2, bias=True)\n",
              "  )\n",
              "  (ethNN): lowLevelNN(\n",
              "    (conv1): Conv2d(128, 256, kernel_size=(3, 3), stride=(1, 1), padding=(1, 1))\n",
              "    (conv2): Conv2d(256, 512, kernel_size=(3, 3), stride=(1, 1), padding=(1, 1))\n",
              "    (fc1): Linear(in_features=2048, out_features=256, bias=True)\n",
              "    (fc2): Linear(in_features=256, out_features=128, bias=True)\n",
              "    (fc3): Linear(in_features=128, out_features=64, bias=True)\n",
              "    (fc4): Linear(in_features=64, out_features=5, bias=True)\n",
              "  )\n",
              ")"
            ]
          },
          "metadata": {},
          "execution_count": 10
        }
      ],
      "source": [
        "# Configure the device \n",
        "device = 'cuda' if torch.cuda.is_available() else 'cpu' \n",
        "print(device)\n",
        "\n",
        "# Define the list of hyperparameters\n",
        "hyperparameters = {'learning_rate':0.001, 'epochs':30}\n",
        "\n",
        "# Initialize the TridentNN model and put on device\n",
        "model = TridentNN(class_nums['age_num'], class_nums['gen_num'], class_nums['eth_num'])\n",
        "model.to(device)"
      ]
    },
    {
      "cell_type": "code",
      "execution_count": 11,
      "metadata": {
        "id": "M1e1Yf_bE2bt"
      },
      "outputs": [],
      "source": [
        "'''\n",
        "  Functions to load and save a PyTorch model\n",
        "'''\n",
        "def save_checkpoint(state, epoch):\n",
        "  print(\"Saving Checkpoint\")\n",
        "  filename = \"tridentNN_epoch\"+str(epoch)+\".pth.tar\"\n",
        "  torch.save(state,filename)\n",
        "\n",
        "def load_checkpoint(checkpoint):\n",
        "  print(\"Loading Checkpoint\")\n",
        "  model.load_state_dict(checkpoint['state_dict'])\n",
        "  opt.load_state_dict(checkpoint['optimizer'])\n"
      ]
    },
    {
      "cell_type": "code",
      "execution_count": 12,
      "metadata": {
        "colab": {
          "base_uri": "https://localhost:8080/"
        },
        "id": "FGdpJIvvJZWk",
        "outputId": "b1f72abe-29e1-4f07-c918-83e3570ce32f"
      },
      "outputs": [
        {
          "output_type": "stream",
          "name": "stderr",
          "text": [
            "\r  0%|          | 0/297 [00:00<?, ?it/s]"
          ]
        },
        {
          "output_type": "stream",
          "name": "stdout",
          "text": [
            "Saving Checkpoint\n"
          ]
        },
        {
          "output_type": "stream",
          "name": "stderr",
          "text": [
            "Epoch [1/30]: 100%|██████████| 297/297 [00:17<00:00, 17.33it/s, loss=3.85]\n"
          ]
        },
        {
          "output_type": "stream",
          "name": "stdout",
          "text": [
            "Epoch : 1/30,    Age Accuracy : 21.44062434085636,    Gender Accuracy : 58.13646909934613,    Ethnicity Accuracy : 43.78823033115376\n",
            "\n"
          ]
        },
        {
          "output_type": "stream",
          "name": "stderr",
          "text": [
            "Epoch [2/30]: 100%|██████████| 297/297 [00:09<00:00, 31.33it/s, loss=3.07]\n"
          ]
        },
        {
          "output_type": "stream",
          "name": "stdout",
          "text": [
            "Epoch : 2/30,    Age Accuracy : 33.44758489770091,    Gender Accuracy : 80.97975110736132,    Ethnicity Accuracy : 54.012866483864165\n",
            "\n"
          ]
        },
        {
          "output_type": "stream",
          "name": "stderr",
          "text": [
            "Epoch [3/30]: 100%|██████████| 297/297 [00:10<00:00, 29.45it/s, loss=2.82]\n"
          ]
        },
        {
          "output_type": "stream",
          "name": "stdout",
          "text": [
            "Epoch : 3/30,    Age Accuracy : 41.67369753216621,    Gender Accuracy : 85.82050200379668,    Ethnicity Accuracy : 65.55051676861422\n",
            "\n"
          ]
        },
        {
          "output_type": "stream",
          "name": "stderr",
          "text": [
            "Epoch [4/30]: 100%|██████████| 297/297 [00:10<00:00, 28.45it/s, loss=2.66]\n"
          ]
        },
        {
          "output_type": "stream",
          "name": "stdout",
          "text": [
            "Epoch : 4/30,    Age Accuracy : 44.61611474372496,    Gender Accuracy : 88.22505800464036,    Ethnicity Accuracy : 72.62180974477958\n",
            "\n"
          ]
        },
        {
          "output_type": "stream",
          "name": "stderr",
          "text": [
            "Epoch [5/30]: 100%|██████████| 297/297 [00:10<00:00, 29.37it/s, loss=1.96]\n"
          ]
        },
        {
          "output_type": "stream",
          "name": "stdout",
          "text": [
            "Epoch : 5/30,    Age Accuracy : 46.6568234549673,    Gender Accuracy : 89.48006749630879,    Ethnicity Accuracy : 75.60641214933558\n",
            "\n"
          ]
        },
        {
          "output_type": "stream",
          "name": "stderr",
          "text": [
            "Epoch [6/30]: 100%|██████████| 297/297 [00:09<00:00, 30.29it/s, loss=2.38]\n"
          ]
        },
        {
          "output_type": "stream",
          "name": "stdout",
          "text": [
            "Epoch : 6/30,    Age Accuracy : 48.13857835899599,    Gender Accuracy : 90.6137945581101,    Ethnicity Accuracy : 77.96878295718203\n",
            "\n"
          ]
        },
        {
          "output_type": "stream",
          "name": "stderr",
          "text": [
            "Epoch [7/30]: 100%|██████████| 297/297 [00:09<00:00, 29.88it/s, loss=1.79]\n"
          ]
        },
        {
          "output_type": "stream",
          "name": "stdout",
          "text": [
            "Epoch : 7/30,    Age Accuracy : 50.163467622864374,    Gender Accuracy : 91.5524151022991,    Ethnicity Accuracy : 79.42417211558744\n",
            "\n"
          ]
        },
        {
          "output_type": "stream",
          "name": "stderr",
          "text": [
            "Epoch [8/30]: 100%|██████████| 297/297 [00:09<00:00, 30.64it/s, loss=1.72]\n"
          ]
        },
        {
          "output_type": "stream",
          "name": "stdout",
          "text": [
            "Epoch : 8/30,    Age Accuracy : 51.45011600928074,    Gender Accuracy : 92.59122547985656,    Ethnicity Accuracy : 81.49124657245306\n",
            "\n"
          ]
        },
        {
          "output_type": "stream",
          "name": "stderr",
          "text": [
            "Epoch [9/30]: 100%|██████████| 297/297 [00:09<00:00, 30.37it/s, loss=2.43]\n"
          ]
        },
        {
          "output_type": "stream",
          "name": "stdout",
          "text": [
            "Epoch : 9/30,    Age Accuracy : 52.578569921957396,    Gender Accuracy : 93.13435983969627,    Ethnicity Accuracy : 82.33495043239823\n",
            "\n"
          ]
        },
        {
          "output_type": "stream",
          "name": "stderr",
          "text": [
            "Epoch [10/30]: 100%|██████████| 297/297 [00:09<00:00, 30.07it/s, loss=1.47]\n"
          ]
        },
        {
          "output_type": "stream",
          "name": "stdout",
          "text": [
            "Epoch : 10/30,    Age Accuracy : 53.98650073824087,    Gender Accuracy : 93.83041552415102,    Ethnicity Accuracy : 83.81143218730226\n",
            "\n"
          ]
        },
        {
          "output_type": "stream",
          "name": "stderr",
          "text": [
            "Epoch [11/30]:   0%|          | 1/297 [00:00<00:38,  7.64it/s, loss=1.44]"
          ]
        },
        {
          "output_type": "stream",
          "name": "stdout",
          "text": [
            "Saving Checkpoint\n"
          ]
        },
        {
          "output_type": "stream",
          "name": "stderr",
          "text": [
            "Epoch [11/30]: 100%|██████████| 297/297 [00:10<00:00, 28.67it/s, loss=1.86]\n"
          ]
        },
        {
          "output_type": "stream",
          "name": "stdout",
          "text": [
            "Epoch : 11/30,    Age Accuracy : 55.48934823876819,    Gender Accuracy : 94.67939253322083,    Ethnicity Accuracy : 85.37228432820079\n",
            "\n"
          ]
        },
        {
          "output_type": "stream",
          "name": "stderr",
          "text": [
            "Epoch [12/30]: 100%|██████████| 297/297 [00:09<00:00, 30.66it/s, loss=1.02]\n"
          ]
        },
        {
          "output_type": "stream",
          "name": "stdout",
          "text": [
            "Epoch : 12/30,    Age Accuracy : 57.34549673064754,    Gender Accuracy : 95.11179076144273,    Ethnicity Accuracy : 86.66947901286647\n",
            "\n"
          ]
        },
        {
          "output_type": "stream",
          "name": "stderr",
          "text": [
            "Epoch [13/30]: 100%|██████████| 297/297 [00:09<00:00, 29.96it/s, loss=1.58]\n"
          ]
        },
        {
          "output_type": "stream",
          "name": "stdout",
          "text": [
            "Epoch : 13/30,    Age Accuracy : 58.75342754693102,    Gender Accuracy : 95.66019827040708,    Ethnicity Accuracy : 87.7768403290445\n",
            "\n"
          ]
        },
        {
          "output_type": "stream",
          "name": "stderr",
          "text": [
            "Epoch [14/30]: 100%|██████████| 297/297 [00:09<00:00, 29.93it/s, loss=1.38]\n"
          ]
        },
        {
          "output_type": "stream",
          "name": "stdout",
          "text": [
            "Epoch : 14/30,    Age Accuracy : 60.42501581944737,    Gender Accuracy : 95.99767981438515,    Ethnicity Accuracy : 88.73655346973213\n",
            "\n"
          ]
        },
        {
          "output_type": "stream",
          "name": "stderr",
          "text": [
            "Epoch [15/30]: 100%|██████████| 297/297 [00:09<00:00, 31.15it/s, loss=1.35]\n"
          ]
        },
        {
          "output_type": "stream",
          "name": "stdout",
          "text": [
            "Epoch : 15/30,    Age Accuracy : 63.198692259017086,    Gender Accuracy : 96.56717991984813,    Ethnicity Accuracy : 90.02320185614849\n",
            "\n"
          ]
        },
        {
          "output_type": "stream",
          "name": "stderr",
          "text": [
            "Epoch [16/30]: 100%|██████████| 297/297 [00:09<00:00, 29.95it/s, loss=0.736]\n"
          ]
        },
        {
          "output_type": "stream",
          "name": "stdout",
          "text": [
            "Epoch : 16/30,    Age Accuracy : 64.85446108415947,    Gender Accuracy : 96.73064754271252,    Ethnicity Accuracy : 91.1832946635731\n",
            "\n"
          ]
        },
        {
          "output_type": "stream",
          "name": "stderr",
          "text": [
            "Epoch [17/30]: 100%|██████████| 297/297 [00:09<00:00, 29.81it/s, loss=1.16]\n"
          ]
        },
        {
          "output_type": "stream",
          "name": "stdout",
          "text": [
            "Epoch : 17/30,    Age Accuracy : 67.45939675174014,    Gender Accuracy : 97.02067074456866,    Ethnicity Accuracy : 91.86880404977853\n",
            "\n"
          ]
        },
        {
          "output_type": "stream",
          "name": "stderr",
          "text": [
            "Epoch [18/30]: 100%|██████████| 297/297 [00:09<00:00, 30.49it/s, loss=0.737]\n"
          ]
        },
        {
          "output_type": "stream",
          "name": "stdout",
          "text": [
            "Epoch : 18/30,    Age Accuracy : 69.46846656823456,    Gender Accuracy : 97.40561063066863,    Ethnicity Accuracy : 93.06580890107571\n",
            "\n"
          ]
        },
        {
          "output_type": "stream",
          "name": "stderr",
          "text": [
            "Epoch [19/30]: 100%|██████████| 297/297 [00:12<00:00, 24.61it/s, loss=1.04]\n"
          ]
        },
        {
          "output_type": "stream",
          "name": "stdout",
          "text": [
            "Epoch : 19/30,    Age Accuracy : 71.9784855515714,    Gender Accuracy : 97.47943471841384,    Ethnicity Accuracy : 93.65640160303734\n",
            "\n"
          ]
        },
        {
          "output_type": "stream",
          "name": "stderr",
          "text": [
            "Epoch [20/30]: 100%|██████████| 297/297 [00:09<00:00, 29.96it/s, loss=1.14]\n"
          ]
        },
        {
          "output_type": "stream",
          "name": "stdout",
          "text": [
            "Epoch : 20/30,    Age Accuracy : 74.41468044716305,    Gender Accuracy : 97.74836532377135,    Ethnicity Accuracy : 94.37882303311538\n",
            "\n"
          ]
        },
        {
          "output_type": "stream",
          "name": "stderr",
          "text": [
            "Epoch [21/30]:   0%|          | 1/297 [00:00<00:41,  7.09it/s, loss=0.693]"
          ]
        },
        {
          "output_type": "stream",
          "name": "stdout",
          "text": [
            "Saving Checkpoint\n"
          ]
        },
        {
          "output_type": "stream",
          "name": "stderr",
          "text": [
            "Epoch [21/30]: 100%|██████████| 297/297 [00:10<00:00, 29.06it/s, loss=1.17]\n"
          ]
        },
        {
          "output_type": "stream",
          "name": "stdout",
          "text": [
            "Epoch : 21/30,    Age Accuracy : 76.1970048512972,    Gender Accuracy : 98.01202278000422,    Ethnicity Accuracy : 94.9430499894537\n",
            "\n"
          ]
        },
        {
          "output_type": "stream",
          "name": "stderr",
          "text": [
            "Epoch [22/30]: 100%|██████████| 297/297 [00:09<00:00, 30.75it/s, loss=0.945]\n"
          ]
        },
        {
          "output_type": "stream",
          "name": "stdout",
          "text": [
            "Epoch : 22/30,    Age Accuracy : 78.30099135203542,    Gender Accuracy : 97.98565703438094,    Ethnicity Accuracy : 95.6074667791605\n",
            "\n"
          ]
        },
        {
          "output_type": "stream",
          "name": "stderr",
          "text": [
            "Epoch [23/30]: 100%|██████████| 297/297 [00:09<00:00, 29.98it/s, loss=0.474]\n"
          ]
        },
        {
          "output_type": "stream",
          "name": "stdout",
          "text": [
            "Epoch : 23/30,    Age Accuracy : 80.27314912465725,    Gender Accuracy : 98.47605990297406,    Ethnicity Accuracy : 96.00822611263446\n",
            "\n"
          ]
        },
        {
          "output_type": "stream",
          "name": "stderr",
          "text": [
            "Epoch [24/30]: 100%|██████████| 297/297 [00:09<00:00, 30.02it/s, loss=0.623]\n"
          ]
        },
        {
          "output_type": "stream",
          "name": "stdout",
          "text": [
            "Epoch : 24/30,    Age Accuracy : 82.29803838852563,    Gender Accuracy : 98.37587006960557,    Ethnicity Accuracy : 96.1875131828728\n",
            "\n"
          ]
        },
        {
          "output_type": "stream",
          "name": "stderr",
          "text": [
            "Epoch [25/30]: 100%|██████████| 297/297 [00:09<00:00, 30.74it/s, loss=0.515]\n"
          ]
        },
        {
          "output_type": "stream",
          "name": "stdout",
          "text": [
            "Epoch : 25/30,    Age Accuracy : 83.28939042396118,    Gender Accuracy : 98.54988399071925,    Ethnicity Accuracy : 96.6199114110947\n",
            "\n"
          ]
        },
        {
          "output_type": "stream",
          "name": "stderr",
          "text": [
            "Epoch [26/30]: 100%|██████████| 297/297 [00:09<00:00, 29.97it/s, loss=1.09]\n"
          ]
        },
        {
          "output_type": "stream",
          "name": "stdout",
          "text": [
            "Epoch : 26/30,    Age Accuracy : 84.63931659987345,    Gender Accuracy : 98.70280531533432,    Ethnicity Accuracy : 96.97321240244673\n",
            "\n"
          ]
        },
        {
          "output_type": "stream",
          "name": "stderr",
          "text": [
            "Epoch [27/30]: 100%|██████████| 297/297 [00:10<00:00, 28.19it/s, loss=0.432]\n"
          ]
        },
        {
          "output_type": "stream",
          "name": "stdout",
          "text": [
            "Epoch : 27/30,    Age Accuracy : 86.68529846024046,    Gender Accuracy : 98.59734233284118,    Ethnicity Accuracy : 97.21577726218096\n",
            "\n"
          ]
        },
        {
          "output_type": "stream",
          "name": "stderr",
          "text": [
            "Epoch [28/30]: 100%|██████████| 297/297 [00:10<00:00, 28.94it/s, loss=0.432]\n"
          ]
        },
        {
          "output_type": "stream",
          "name": "stdout",
          "text": [
            "Epoch : 28/30,    Age Accuracy : 86.7907614427336,    Gender Accuracy : 98.75026365745623,    Ethnicity Accuracy : 97.17886521830837\n",
            "\n"
          ]
        },
        {
          "output_type": "stream",
          "name": "stderr",
          "text": [
            "Epoch [29/30]: 100%|██████████| 297/297 [00:09<00:00, 30.70it/s, loss=0.719]\n"
          ]
        },
        {
          "output_type": "stream",
          "name": "stdout",
          "text": [
            "Epoch : 29/30,    Age Accuracy : 87.36553469732125,    Gender Accuracy : 98.91900442944527,    Ethnicity Accuracy : 97.28432820080151\n",
            "\n"
          ]
        },
        {
          "output_type": "stream",
          "name": "stderr",
          "text": [
            "Epoch [30/30]: 100%|██████████| 297/297 [00:09<00:00, 29.99it/s, loss=0.4]"
          ]
        },
        {
          "output_type": "stream",
          "name": "stdout",
          "text": [
            "Epoch : 30/30,    Age Accuracy : 88.65745623286226,    Gender Accuracy : 98.83463404345075,    Ethnicity Accuracy : 97.97511073613163\n",
            "\n"
          ]
        },
        {
          "output_type": "stream",
          "name": "stderr",
          "text": [
            "\n"
          ]
        }
      ],
      "source": [
        "'''\n",
        "train the model\n",
        "''' \n",
        "# Load hyperparameters\n",
        "learning_rate = hyperparameters['learning_rate']\n",
        "num_epoch = hyperparameters['epochs']\n",
        "\n",
        "# Define loss functions\n",
        "age_loss = nn.CrossEntropyLoss()\n",
        "gen_loss = nn.CrossEntropyLoss() # TODO : Explore using Binary Cross Entropy Loss?\n",
        "eth_loss = nn.CrossEntropyLoss()\n",
        "\n",
        "# Define optimizer\n",
        "opt = torch.optim.Adam(model.parameters(), lr=learning_rate)\n",
        "\n",
        "# Train the model\n",
        "for epoch in range(num_epoch):\n",
        "  # Construct tqdm loop to keep track of training\n",
        "  loop = tqdm(enumerate(trainloader), total=len(trainloader), position=0, leave=True)\n",
        "  age_correct, gen_correct, eth_correct, total = 0,0,0,0\n",
        "\n",
        "  # save the model every 10 epochs\n",
        "  if epoch % 10 == 0:\n",
        "    checkpoint = {'state_dict' : model.state_dict(), 'optimizer' : opt.state_dict(), \n",
        "                  'age_loss' : age_loss, 'gen_loss' : gen_loss, 'eth_loss' : eth_loss}\n",
        "    save_checkpoint(checkpoint, epoch)\n",
        "\n",
        "  # Loop through dataLoader\n",
        "  for _, (X,y) in loop:\n",
        "    # Unpack y to get true age, eth, and gen values\n",
        "    # Have to do some special changes to age label to make it compatible with NN output and Loss function\n",
        "    #age, gen, eth = y[:,0].resize_(len(y[:,0]),1).float().to(device), y[:,1].to(device), y[:,2].to(device)\n",
        "    age, gen, eth = y[:,0].to(device), y[:,1].to(device), y[:,2].to(device)\n",
        "    X = X.to(device)\n",
        "    pred = model(X)          # Forward pass\n",
        "    loss = age_loss(pred[0],age) + gen_loss(pred[1],gen) + eth_loss(pred[2],eth)   # Loss calculation\n",
        "\n",
        "    # Backpropagation\n",
        "    opt.zero_grad()          # Zero the gradient\n",
        "    loss.backward()          # Calculate updates\n",
        "\n",
        "    # Gradient Descent\n",
        "    opt.step()               # Apply updates\n",
        "\n",
        "    # Update num correct and total\n",
        "    age_correct += (pred[0].argmax(1) == age).type(torch.float).sum().item()\n",
        "    gen_correct += (pred[1].argmax(1) == gen).type(torch.float).sum().item()\n",
        "    eth_correct += (pred[2].argmax(1) == eth).type(torch.float).sum().item()\n",
        "\n",
        "    total += len(y)\n",
        "\n",
        "    # Update progress bar\n",
        "    loop.set_description(f\"Epoch [{epoch+1}/{num_epoch}]\")\n",
        "    loop.set_postfix(loss = loss.item())\n",
        "\n",
        "  # Update epoch accuracy\n",
        "  gen_acc, eth_acc, age_acc = gen_correct/total, eth_correct/total, age_correct/total\n",
        "\n",
        "  # print out accuracy and loss for epoch\n",
        "  print(f'Epoch : {epoch+1}/{num_epoch},    Age Accuracy : {age_acc*100},    Gender Accuracy : {gen_acc*100},    Ethnicity Accuracy : {eth_acc*100}\\n')"
      ]
    },
    {
      "cell_type": "markdown",
      "metadata": {
        "id": "F9sxKcPyNLxg"
      },
      "source": [
        "I manuall interrupted the training because I wanted everything to have a training accuracy > 90% and I didn't code that part in yet\n",
        "<br> <br>\n",
        "Now I am going to test the model"
      ]
    },
    {
      "cell_type": "code",
      "execution_count": 13,
      "metadata": {
        "colab": {
          "base_uri": "https://localhost:8080/"
        },
        "id": "lKD70kYxPUvl",
        "outputId": "c3e4a2ef-72d0-48c7-8ff6-f33f3a14ce43"
      },
      "outputs": [
        {
          "output_type": "stream",
          "name": "stdout",
          "text": [
            "Age Accuracy : 46.88884201645222%,     Gender Accuracy : 87.51318287281164,    Ethnicity Accuracy : 75.57477325458764\n",
            "\n"
          ]
        }
      ],
      "source": [
        "test(testloader, model)"
      ]
    }
  ],
  "metadata": {
    "accelerator": "GPU",
    "colab": {
      "provenance": [],
      "include_colab_link": true
    },
    "kernelspec": {
      "display_name": "Python 3",
      "name": "python3"
    },
    "language_info": {
      "name": "python"
    }
  },
  "nbformat": 4,
  "nbformat_minor": 0
}